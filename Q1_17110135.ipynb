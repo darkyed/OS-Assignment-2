{
 "cells": [
  {
   "cell_type": "code",
   "execution_count": null,
   "metadata": {},
   "outputs": [],
   "source": [
    "import matplotlib.pyplot as plt\n",
    "import random\n",
    "import numpy as np"
   ]
  },
  {
   "cell_type": "markdown",
   "metadata": {},
   "source": [
    "# Parent Class"
   ]
  },
  {
   "cell_type": "code",
   "execution_count": null,
   "metadata": {},
   "outputs": [],
   "source": [
    "class cache:\n",
    "    def __init__(self, s):\n",
    "        self.maxsize = s\n",
    "        self.current_size = 0\n",
    "        self.cache = []\n",
    "        self.status = []\n",
    "        self.hash = set()\n",
    "    def cacheStatus(self):\n",
    "        return self.status\n",
    "    def printCache(self):\n",
    "        return self.cache"
   ]
  },
  {
   "cell_type": "markdown",
   "metadata": {},
   "source": [
    "## Random"
   ]
  },
  {
   "cell_type": "code",
   "execution_count": null,
   "metadata": {},
   "outputs": [],
   "source": [
    "class RandomCache(cache):\n",
    "    def __init__(self, s):\n",
    "        cache.__init__(self,s)\n",
    "    def updateCache(self, elem):\n",
    "        if elem not in self.hash:\n",
    "            self.status += ['miss']\n",
    "            if self.current_size == self.maxsize:\n",
    "                rand_num = random.randint(0,self.maxsize-1)\n",
    "                self.cache.append(elem)\n",
    "                self.hash.add(elem)\n",
    "                del_elem = self.cache.pop(rand_num)\n",
    "                self.hash.remove(del_elem)\n",
    "            elif self.current_size < self.maxsize:\n",
    "                self.cache.append(elem)\n",
    "                self.hash.add(elem)\n",
    "                self.current_size += 1\n",
    "        else:\n",
    "            self.status += ['hit']"
   ]
  },
  {
   "cell_type": "code",
   "execution_count": null,
   "metadata": {},
   "outputs": [],
   "source": [
    "ref_array = [0, 1, 2, 0, 1, 3, 0, 3, 1, 2, 1]"
   ]
  },
  {
   "cell_type": "code",
   "execution_count": null,
   "metadata": {},
   "outputs": [],
   "source": [
    "randC = RandomCache(3)"
   ]
  },
  {
   "cell_type": "code",
   "execution_count": null,
   "metadata": {},
   "outputs": [],
   "source": [
    "for i,k in enumerate(ref_array):\n",
    "    randC.updateCache(k)\n",
    "    status = randC.cacheStatus()[i]\n",
    "    print(status, randC.printCache())"
   ]
  },
  {
   "cell_type": "markdown",
   "metadata": {},
   "source": [
    "## FIFO"
   ]
  },
  {
   "cell_type": "code",
   "execution_count": null,
   "metadata": {},
   "outputs": [],
   "source": [
    "class FIFOCache(cache):\n",
    "    def __init__(self, s):\n",
    "        cache.__init__(self,s)\n",
    "    def updateCache(self, elem):\n",
    "        if elem not in self.hash:\n",
    "            self.status += ['miss']\n",
    "            if self.current_size == self.maxsize:\n",
    "                self.cache.append(elem)\n",
    "                self.hash.add(elem)\n",
    "                del_elem = self.cache.pop(0)\n",
    "                self.hash.remove(del_elem)\n",
    "            elif self.current_size < self.maxsize:\n",
    "                self.cache.append(elem)\n",
    "                self.hash.add(elem)\n",
    "                self.current_size += 1\n",
    "        else:\n",
    "            self.status += ['hit']"
   ]
  },
  {
   "cell_type": "code",
   "execution_count": null,
   "metadata": {},
   "outputs": [],
   "source": [
    "ref_array = [0, 1, 2, 0, 1, 3, 0, 3, 1, 2, 1]"
   ]
  },
  {
   "cell_type": "code",
   "execution_count": null,
   "metadata": {},
   "outputs": [],
   "source": [
    "fifo = FIFOCache(3)"
   ]
  },
  {
   "cell_type": "code",
   "execution_count": null,
   "metadata": {},
   "outputs": [],
   "source": [
    "for i,k in enumerate(ref_array):\n",
    "    fifo.updateCache(k)\n",
    "    status = fifo.cacheStatus()[i]\n",
    "    print(status, fifo.printCache())"
   ]
  },
  {
   "cell_type": "markdown",
   "metadata": {},
   "source": [
    "## LFU"
   ]
  },
  {
   "cell_type": "code",
   "execution_count": null,
   "metadata": {},
   "outputs": [],
   "source": [
    "class LFUCache(cache):\n",
    "    def __init__(self, s):\n",
    "        cache.__init__(self,s)\n",
    "        self.hash = {}\n",
    "        \n",
    "    def extractMinIndex(self):\n",
    "        minkey = min(self.hash, key=self.hash.get)\n",
    "        return self.cache.index(minkey)\n",
    "    \n",
    "    def updateCache(self, elem):\n",
    "        if elem not in self.hash:\n",
    "            self.status += ['miss']\n",
    "            if self.current_size == self.maxsize:\n",
    "                del_elem = self.cache.pop(self.extractMinIndex())\n",
    "                del self.hash[del_elem]\n",
    "                self.cache.append(elem)\n",
    "                self.hash[elem] = 1\n",
    "            elif self.current_size < self.maxsize:\n",
    "                self.cache.append(elem)\n",
    "                self.hash[elem] = 1\n",
    "                self.current_size += 1\n",
    "        else:\n",
    "            self.status += ['hit']\n",
    "            self.hash[elem] += 1"
   ]
  },
  {
   "cell_type": "code",
   "execution_count": null,
   "metadata": {},
   "outputs": [],
   "source": [
    "ref_array = [0, 1, 2, 0, 1, 3, 0, 3, 1, 2, 1]"
   ]
  },
  {
   "cell_type": "code",
   "execution_count": null,
   "metadata": {},
   "outputs": [],
   "source": [
    "lfu = LFUCache(3)"
   ]
  },
  {
   "cell_type": "code",
   "execution_count": null,
   "metadata": {},
   "outputs": [],
   "source": [
    "for i,k in enumerate(ref_array):\n",
    "    lfu.updateCache(k)\n",
    "    status = lfu.cacheStatus()[i]\n",
    "    print(status, lfu.printCache())"
   ]
  },
  {
   "cell_type": "markdown",
   "metadata": {},
   "source": [
    "## LRU"
   ]
  },
  {
   "cell_type": "code",
   "execution_count": null,
   "metadata": {},
   "outputs": [],
   "source": [
    "class LRUCache(cache):\n",
    "    def __init__(self, s):\n",
    "        cache.__init__(self,s)\n",
    "    def updateCache(self, elem):\n",
    "        if elem not in self.hash:\n",
    "            self.status += ['miss']\n",
    "            if self.current_size == self.maxsize:\n",
    "                self.cache.append(elem)\n",
    "                self.hash.add(elem)\n",
    "                del_elem = self.cache.pop(0)\n",
    "                self.hash.remove(del_elem)\n",
    "            elif self.current_size < self.maxsize:\n",
    "                self.cache.append(elem)\n",
    "                self.hash.add(elem)\n",
    "                self.current_size += 1\n",
    "        else:\n",
    "            self.status += ['hit']\n",
    "            del_elem = self.cache.pop(self.cache.index(elem))\n",
    "            self.cache.append(del_elem)"
   ]
  },
  {
   "cell_type": "code",
   "execution_count": null,
   "metadata": {},
   "outputs": [],
   "source": [
    "ref_array = [0, 1, 2, 0, 1, 3, 0, 3, 1, 2, 1]"
   ]
  },
  {
   "cell_type": "code",
   "execution_count": null,
   "metadata": {},
   "outputs": [],
   "source": [
    "lru = LRUCache(3)"
   ]
  },
  {
   "cell_type": "code",
   "execution_count": null,
   "metadata": {},
   "outputs": [],
   "source": [
    "for i,k in enumerate(ref_array):\n",
    "    lru.updateCache(k)\n",
    "    status = lru.cacheStatus()[i]\n",
    "    print(status, lru.printCache())"
   ]
  },
  {
   "cell_type": "markdown",
   "metadata": {},
   "source": [
    "## Oracle"
   ]
  },
  {
   "cell_type": "code",
   "execution_count": null,
   "metadata": {},
   "outputs": [],
   "source": [
    "class OracleCache(cache):\n",
    "    def __init__(self, s, load):\n",
    "        cache.__init__(self,s)\n",
    "        self.present = 0\n",
    "        self.load = load\n",
    "    \n",
    "    def farthest(self):\n",
    "        if len(self.load[self.present:])==1:\n",
    "            return 0\n",
    "        else:\n",
    "            self.m = -500\n",
    "            for c in self.cache:\n",
    "                if c in self.load[self.present:]:\n",
    "                    self.m = max(self.load[self.present:].index(c), self.m)\n",
    "                else:\n",
    "                    return self.cache.index(c)\n",
    "            return self.cache.index(self.load[self.present:][self.m])\n",
    "            \n",
    "            \n",
    "    def updateCache(self, elem):\n",
    "        if elem not in self.hash:\n",
    "            self.present += 1\n",
    "            self.status += ['miss']\n",
    "            if self.current_size == self.maxsize:\n",
    "                del_elem = self.cache.pop(self.farthest())\n",
    "                self.hash.remove(del_elem)\n",
    "                self.cache.append(elem)\n",
    "                self.hash.add(elem)\n",
    "            \n",
    "            elif self.current_size < self.maxsize:\n",
    "                self.cache.append(elem)\n",
    "                self.hash.add(elem)\n",
    "                self.current_size += 1\n",
    "        else:\n",
    "            self.present += 1\n",
    "            self.status += ['hit']"
   ]
  },
  {
   "cell_type": "code",
   "execution_count": null,
   "metadata": {},
   "outputs": [],
   "source": [
    "orac = OracleCache(3, ref_array)"
   ]
  },
  {
   "cell_type": "code",
   "execution_count": null,
   "metadata": {},
   "outputs": [],
   "source": [
    "ref_array = [0, 1, 2, 0, 1, 3, 0, 3, 1, 2, 1]"
   ]
  },
  {
   "cell_type": "code",
   "execution_count": null,
   "metadata": {},
   "outputs": [],
   "source": [
    "for i,k in enumerate(ref_array):\n",
    "    orac.updateCache(k)\n",
    "    status = orac.cacheStatus()[i]\n",
    "    print(status, orac.printCache())"
   ]
  },
  {
   "cell_type": "markdown",
   "metadata": {},
   "source": [
    "## Plotting"
   ]
  },
  {
   "cell_type": "markdown",
   "metadata": {},
   "source": [
    "### Workloads"
   ]
  },
  {
   "cell_type": "code",
   "execution_count": null,
   "metadata": {},
   "outputs": [],
   "source": [
    "W_loopseq = []\n",
    "for i in range(200):\n",
    "    W_loopseq += [i for i in range(1,51)]"
   ]
  },
  {
   "cell_type": "code",
   "execution_count": null,
   "metadata": {},
   "outputs": [],
   "source": [
    "W_noloc = list(np.random.randint(1,101, size=(10000,)))"
   ]
  },
  {
   "cell_type": "code",
   "execution_count": null,
   "metadata": {},
   "outputs": [],
   "source": [
    "w_80ref = np.random.randint(1, 21, size=(8000,))\n",
    "w_20ref = np.random.randint(21, 101, size=(2000,))\n",
    "W_8020 = np.append(w_20ref, w_80ref, axis=0)\n",
    "np.random.shuffle(W_8020)"
   ]
  },
  {
   "cell_type": "code",
   "execution_count": null,
   "metadata": {},
   "outputs": [],
   "source": [
    "W = {'80-20': W_8020, 'no-locality': W_noloc, 'looping-seq': W_loopseq}"
   ]
  },
  {
   "cell_type": "markdown",
   "metadata": {},
   "source": [
    "#### Each of the below functions take a bit time(2-3 min)"
   ]
  },
  {
   "cell_type": "code",
   "execution_count": null,
   "metadata": {},
   "outputs": [],
   "source": [
    "def plot_noloc(workloads=W):\n",
    "    A = workloads['no-locality']\n",
    "    caches = [RandomCache, FIFOCache, LRUCache, LFUCache, OracleCache]\n",
    "    graphs = ['k-', 'b|', 'g.', 'co', 'r-']\n",
    "    Y_s, X_s = [], [i for i in range(1,101)]\n",
    "    for n,ca in enumerate(caches):\n",
    "        Y = []\n",
    "        X = [i for i in range(1,101)]\n",
    "        for i in range(1,101): #cache size\n",
    "            if n==4:\n",
    "                c = ca(i, list(A))\n",
    "            else:\n",
    "                c = ca(i)\n",
    "            for j in A:\n",
    "                c.updateCache(j)\n",
    "            Y.append((c.cacheStatus().count('hit')/len(c.cacheStatus()))*100)\n",
    "        Y_s.append(Y)\n",
    "        \n",
    "    plt.plot(X_s, Y_s[0], graphs[0],label='Random')\n",
    "    plt.plot( X_s, Y_s[1], graphs[1], label='FIFO')\n",
    "    plt.plot(X_s, Y_s[2], graphs[2], label='LRU')\n",
    "    plt.plot(X_s, Y_s[3], graphs[3], label='LFU')\n",
    "    plt.plot(X_s, Y_s[4], graphs[4], label='Oracle')\n",
    "    plt.legend()\n",
    "    plt.show()"
   ]
  },
  {
   "cell_type": "code",
   "execution_count": null,
   "metadata": {},
   "outputs": [],
   "source": [
    "%%time\n",
    "plot_noloc()"
   ]
  },
  {
   "cell_type": "code",
   "execution_count": null,
   "metadata": {},
   "outputs": [],
   "source": [
    "def plot_8020(workloads=W):\n",
    "    A = workloads['80-20']\n",
    "    caches = [RandomCache, FIFOCache, LRUCache, LFUCache, OracleCache]\n",
    "    graphs = ['k-', 'b|', 'g.', 'co', 'r-']\n",
    "    Y_s, X_s = [], [i for i in range(1,101)]\n",
    "    for n,ca in enumerate(caches):\n",
    "        Y = []\n",
    "        X = [i for i in range(1,101)]\n",
    "        for i in range(1,101): #cache size\n",
    "            if n==4:\n",
    "                c = ca(i, list(A))\n",
    "            else:\n",
    "                c = ca(i)\n",
    "            for j in A:\n",
    "                c.updateCache(j)\n",
    "            Y.append((c.cacheStatus().count('hit')/len(c.cacheStatus()))*100)\n",
    "        Y_s.append(Y)\n",
    "        \n",
    "    plt.plot(X_s, Y_s[0], graphs[0],label='Random')\n",
    "    plt.plot( X_s, Y_s[1], graphs[1], label='FIFO')\n",
    "    plt.plot(X_s, Y_s[2], graphs[2], label='LRU')\n",
    "    plt.plot(X_s, Y_s[3], graphs[3], label='LFU')\n",
    "    plt.plot(X_s, Y_s[4], graphs[4], label='Oracle')\n",
    "    plt.legend()\n",
    "    plt.show()"
   ]
  },
  {
   "cell_type": "code",
   "execution_count": null,
   "metadata": {},
   "outputs": [],
   "source": [
    "%%time\n",
    "plot_8020()"
   ]
  },
  {
   "cell_type": "code",
   "execution_count": null,
   "metadata": {},
   "outputs": [],
   "source": [
    "def plot_loopseq(workloads=W):\n",
    "    A = workloads['looping-seq']\n",
    "    caches = [RandomCache, FIFOCache, LRUCache, LFUCache, OracleCache]\n",
    "    graphs = ['k-', 'b|', 'g.', 'co', 'r-']\n",
    "    Y_s, X_s = [], [i for i in range(1,101)]\n",
    "    for n,ca in enumerate(caches):\n",
    "        Y = []\n",
    "        X = [i for i in range(1,101)]\n",
    "        for i in range(1,101): #cache size\n",
    "            if n==4:\n",
    "                c = ca(i, list(A))\n",
    "            else:\n",
    "                c = ca(i)\n",
    "            for j in A:\n",
    "                c.updateCache(j)\n",
    "            Y.append((c.cacheStatus().count('hit')/len(c.cacheStatus()))*100)\n",
    "        Y_s.append(Y)\n",
    "        \n",
    "    plt.plot(X_s, Y_s[0], graphs[0],label='Random')\n",
    "    plt.plot( X_s, Y_s[1], graphs[1], label='FIFO')\n",
    "    plt.plot(X_s, Y_s[2], graphs[2], label='LRU')\n",
    "    plt.plot(X_s, Y_s[3], graphs[3], label='LFU')\n",
    "    plt.plot(X_s, Y_s[4], graphs[4], label='Oracle')\n",
    "    plt.legend()\n",
    "    plt.show()"
   ]
  },
  {
   "cell_type": "code",
   "execution_count": null,
   "metadata": {},
   "outputs": [],
   "source": [
    "%%time\n",
    "plot_loopseq()"
   ]
  }
 ],
 "metadata": {
  "kernelspec": {
   "display_name": "Python 3",
   "language": "python",
   "name": "python3"
  },
  "language_info": {
   "codemirror_mode": {
    "name": "ipython",
    "version": 3
   },
   "file_extension": ".py",
   "mimetype": "text/x-python",
   "name": "python",
   "nbconvert_exporter": "python",
   "pygments_lexer": "ipython3",
   "version": "3.6.8"
  }
 },
 "nbformat": 4,
 "nbformat_minor": 2
}
